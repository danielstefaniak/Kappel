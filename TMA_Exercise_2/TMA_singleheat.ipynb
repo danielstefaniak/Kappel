{
 "cells": [
  {
   "cell_type": "raw",
   "metadata": {},
   "source": [
    "The aim of this Jupyter notebook is to extract linear coefficients of thermal expansion from real thermal-mechanical analyses. Raw data is red by the notebook, data is extracted and the specific data is fitted with available Python functions."
   ]
  },
  {
   "cell_type": "code",
   "execution_count": 72,
   "metadata": {
    "collapsed": true
   },
   "outputs": [],
   "source": [
    "import numpy as np\n",
    "import seaborn as sns\n",
    "import matplotlib.pyplot as plt"
   ]
  },
  {
   "cell_type": "code",
   "execution_count": 73,
   "metadata": {
    "collapsed": true
   },
   "outputs": [],
   "source": [
    "def CTE_EVAL(FILENAME):\n",
    "    #Data you want to extract from the TMA file\n",
    "    index,time,temp_soll,temp_ist,CurrentLength = [],[],[],[],[]\n",
    "        \n",
    "    #Opening the file and storing all lines in list b1.    \n",
    "    f1 = open(FILENAME,'r')\n",
    "    b1 = f1.readlines()\n",
    "    f1.close() \n",
    "     \n",
    "    #Identify the line numbers relevant for the data extraction        \n",
    "    Anfang = b1.index('Kurvenwerte:\\n')+3   \n",
    "    Ende = b1.index('Resultate:\\n')-3 \n",
    "     \n",
    "    #Go through the lines and store the data in the corresponding lists\n",
    "    for k in range(len(b1)):        \n",
    "        if k > Anfang and k <= Ende:\n",
    "            '''Reformatting of txt-file lines --> Exchanging comma \n",
    "            with dots and split line content into pieces'''\n",
    "            b1new =b1[k].replace(',','.')\n",
    "            DATA = b1new.strip().split('        ') \n",
    "            \n",
    "            #Storing the data to the empty lists created above\n",
    "            index.append(DATA[0])\n",
    "            time.append(float(DATA[1]))\n",
    "            temp_ist.append(float(DATA[2]))\n",
    "            temp_soll.append(float(DATA[3]))\n",
    "            CurrentLength.append(float(DATA[4]))\n",
    "    #The initial thickness of your specimen can be important\n",
    "    \n",
    "    initialthickness = CurrentLength[0]\n",
    "    \n",
    "    strain = []\n",
    "    \n",
    "    for l in CurrentLength:\n",
    "        strain.append( (l-initialthickness)/initialthickness)\n",
    "    \n",
    "            \n",
    "    return [time, temp_ist, temp_soll, CurrentLength, strain]"
   ]
  },
  {
   "cell_type": "code",
   "execution_count": 74,
   "metadata": {},
   "outputs": [],
   "source": [
    "#Read the Data from the Textfile\n",
    "\n",
    "Datafiles = ['Thickness_SH.txt','Transverse1_SH.txt','Transverse2_SH.txt']\n",
    "\n",
    "ExperimentDATA = CTE_EVAL(Datafiles[0])\n",
    "#content of ExperimentDATA is [time,temp_ist,temp_soll,CurrentLength]\n",
    "\n",
    "\n",
    "#plt.plot(ExperimentDATA[0],ExperimentDATA[1])\n",
    "#plt.plot(ExperimentDATA[0],ExperimentDATA[2],'r--')\n",
    "\n",
    "#length\n",
    "#plt.plot(ExperimentDATA[0],ExperimentDATA[3],'r--')\n",
    "\n",
    "#strain\n",
    "#plt.plot(ExperimentDATA[0],ExperimentDATA[4],'r--')\n",
    "#plt.show(True)"
   ]
  },
  {
   "cell_type": "code",
   "execution_count": 75,
   "metadata": {},
   "outputs": [
    {
     "name": "stdout",
     "output_type": "stream",
     "text": [
      "\n"
     ]
    }
   ],
   "source": [
    "#Temperature ranges you want to evaluate\n",
    "Tu = 140.0\n",
    "Tl = 50.0\n",
    "\n",
    "#Identifying the corresponding list indices\n",
    "Temp_soll = ExperimentDATA[2]\n",
    "\n",
    "upper = Temp_soll.index(Tu)\n",
    "lower = Temp_soll.index(Tl)\n",
    "\n",
    "\n",
    "print()\n",
    "   \n",
    "#print(lower,upper)\n",
    "    "
   ]
  },
  {
   "cell_type": "code",
   "execution_count": 76,
   "metadata": {},
   "outputs": [],
   "source": [
    "'''Data set extraction!\n",
    "Remeber: content of ExperimentDATA  \n",
    "is [time,temp_ist,temp_soll,CurrentLength,strain]'''\n",
    "\n",
    "time = ExperimentDATA[0][lower:upper]\n",
    "tempist = ExperimentDATA[1][lower:upper]\n",
    "tempsoll = ExperimentDATA[2][lower:upper]\n",
    "strain = ExperimentDATA[4][lower:upper]\n",
    "\n",
    "\n",
    "    "
   ]
  },
  {
   "cell_type": "code",
   "execution_count": 77,
   "metadata": {},
   "outputs": [
    {
     "name": "stdout",
     "output_type": "stream",
     "text": [
      "The CTE is 66.47 ppm/K\n"
     ]
    }
   ],
   "source": [
    "def func(x, m, b):\n",
    "    return m * x + b \n",
    "\n",
    "#Parametric quadratic function\n",
    "#def funcquad(x, a, b ,c ):\n",
    "#    return a * x**2 + b*x + c\n",
    "\n",
    "#That's all you need for simple curve-fitting tasks\n",
    "from scipy.optimize import curve_fit\n",
    "\n",
    "\n",
    "x  = tempist\n",
    "y  = strain\n",
    "\n",
    "popt, pcov = curve_fit(func, x, y)\n",
    "    \n",
    "    #print(popt)\n",
    "CTE = popt[0]*1.0e6\n",
    "Fittedeps = func(np.asarray(x),*popt)\n",
    "\n",
    "print('The CTE is %4.2f ppm/K' % (CTE))\n",
    "    \n"
   ]
  },
  {
   "cell_type": "code",
   "execution_count": 78,
   "metadata": {},
   "outputs": [
    {
     "data": {
      "image/png": "[encoded data removed]",
      "text/plain": [
       "<Figure size 432x288 with 1 Axes>"
      ]
     },
     "metadata": {},
     "output_type": "display_data"
    }
   ],
   "source": [
    "plt.plot(ExperimentDATA[0],ExperimentDATA[4],'r--')\n",
    "plt.plot(time,Fittedeps,'b',linewidth=2.0)\n",
    "\n",
    "middleindex = int(len(Fittedeps) / 2) - 1\n",
    "\n",
    "plt.annotate('lin. CTE = %4.2f ppm/K'%(CTE), xy=(time[middleindex], Fittedeps[middleindex]), xytext=(time[middleindex], 0.15*Fittedeps[middleindex]),\n",
    "            arrowprops=dict(facecolor='black', shrink=0.00),\n",
    "            )\n",
    "\n",
    "plt.xlabel('time [s]')\n",
    "plt.ylabel('strain [-]')\n",
    "plt.show(True)"
   ]
  },
  {
   "cell_type": "code",
   "execution_count": null,
   "metadata": {
    "collapsed": true
   },
   "outputs": [],
   "source": []
  },
  {
   "cell_type": "code",
   "execution_count": null,
   "metadata": {
    "collapsed": true
   },
   "outputs": [],
   "source": []
  }
 ],
 "metadata": {
  "kernelspec": {
   "display_name": "Python 3",
   "language": "python",
   "name": "python3"
  },
  "language_info": {
   "codemirror_mode": {
    "name": "ipython",
    "version": 3
   },
   "file_extension": ".py",
   "mimetype": "text/x-python",
   "name": "python",
   "nbconvert_exporter": "python",
   "pygments_lexer": "ipython3",
   "version": "3.6.3"
  }
 },
 "nbformat": 4,
 "nbformat_minor": 2
}
