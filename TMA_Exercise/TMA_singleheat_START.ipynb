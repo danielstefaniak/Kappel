{
 "cells": [
  {
   "cell_type": "raw",
   "metadata": {},
   "source": [
    "The aim of this Jupyter notebook is to extract linear coefficients of thermal expansion from real thermal-mechanical analyses. Raw data is red by the notebook, data is extracted and the specific data is fitted with available Python functions."
   ]
  },
  {
   "cell_type": "code",
   "execution_count": 2,
   "metadata": {
    "collapsed": true
   },
   "outputs": [],
   "source": [
    "import numpy as np\n",
    "import seaborn as sns\n",
    "import matplotlib.pyplot as plt"
   ]
  },
  {
   "cell_type": "code",
   "execution_count": 3,
   "metadata": {
    "collapsed": true
   },
   "outputs": [],
   "source": [
    "def CTE_EVAL(FILENAME):\n",
    "    #Data you want to extract from the TMA file\n",
    "    index,time,temp_soll,temp_ist,CurrentLength = [],[],[],[],[]\n",
    "        \n",
    "    #Opening the file and storing all lines in list b1.    \n",
    "    f1 = open(FILENAME,'r')\n",
    "    b1 = f1.readlines()\n",
    "    f1.close() \n",
    "     \n",
    "    #Identify the line numbers relevant for the data extraction        \n",
    "    Anfang = b1.index('Kurvenwerte:\\n')+3   \n",
    "    Ende = b1.index('Resultate:\\n')-3 \n",
    "     \n",
    "    #Go through the lines and store the data in the corresponding lists\n",
    "    for k in range(len(b1)):        \n",
    "        if k > Anfang and k <= Ende:\n",
    "            '''Reformatting of txt-file lines --> Exchanging comma \n",
    "            with dots and split line content into pieces'''\n",
    "            b1new =b1[k].replace(',','.')\n",
    "            DATA = b1new.strip().split('        ') \n",
    "            \n",
    "            #Storing the data to the empty lists created above\n",
    "            index.append(DATA[0])\n",
    "            time.append(float(DATA[1]))\n",
    "            temp_ist.append(float(DATA[2]))\n",
    "            temp_soll.append(float(DATA[3]))\n",
    "            CurrentLength.append(float(DATA[4]))\n",
    "    #The initial thickness of your specimen can be important\n",
    "    \n",
    "    initialthickness = CurrentLength[0]\n",
    "    \n",
    "    strain = []\n",
    "    \n",
    "    for l in CurrentLength:\n",
    "        strain.append( (l-initialthickness)/initialthickness)\n",
    "    \n",
    "            \n",
    "    return [time, temp_ist, temp_soll, CurrentLength, strain]"
   ]
  },
  {
   "cell_type": "code",
   "execution_count": 5,
   "metadata": {},
   "outputs": [
    {
     "data": {
      "image/png": "[encoded data removed]",
      "text/plain": [
       "<Figure size 432x288 with 1 Axes>"
      ]
     },
     "metadata": {},
     "output_type": "display_data"
    }
   ],
   "source": [
    "#Read the Data from the Textfile\n",
    "\n",
    "Datafiles = ['Thickness_SH.txt','Transverse1_SH.txt','Transverse2_SH.txt']\n",
    "\n",
    "ExperimentDATA = CTE_EVAL(Datafiles[0])\n",
    "#content of ExperimentDATA is [time,temp_ist,temp_soll,CurrentLength]\n",
    "\n",
    "\n",
    "#plt.plot(ExperimentDATA[0],ExperimentDATA[1])\n",
    "#plt.plot(ExperimentDATA[0],ExperimentDATA[2],'r--')\n",
    "\n",
    "#length\n",
    "#plt.plot(ExperimentDATA[0],ExperimentDATA[3],'r--')\n",
    "\n",
    "#strain\n",
    "plt.plot(ExperimentDATA[0],ExperimentDATA[4],'r--')\n",
    "plt.show(True)"
   ]
  },
  {
   "cell_type": "code",
   "execution_count": null,
   "metadata": {},
   "outputs": [],
   "source": []
  },
  {
   "cell_type": "code",
   "execution_count": null,
   "metadata": {
    "collapsed": true
   },
   "outputs": [],
   "source": []
  }
 ],
 "metadata": {
  "kernelspec": {
   "display_name": "Python 3",
   "language": "python",
   "name": "python3"
  },
  "language_info": {
   "codemirror_mode": {
    "name": "ipython",
    "version": 3
   },
   "file_extension": ".py",
   "mimetype": "text/x-python",
   "name": "python",
   "nbconvert_exporter": "python",
   "pygments_lexer": "ipython3",
   "version": "3.6.3"
  }
 },
 "nbformat": 4,
 "nbformat_minor": 2
}
