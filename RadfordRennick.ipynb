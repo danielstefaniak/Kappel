{
 "cells": [
  {
   "cell_type": "code",
   "execution_count": 159,
   "metadata": {},
   "outputs": [],
   "source": [
    "import ipywidgets as widgets\n",
    "from IPython.display import display\n"
   ]
  },
  {
   "cell_type": "code",
   "execution_count": 160,
   "metadata": {
    "collapsed": true
   },
   "outputs": [],
   "source": [
    "#Widget definitions\n",
    "betaR = widgets.FloatSlider(\n",
    "    value=-0.03,\n",
    "    min=-0.1,\n",
    "    max=0.1,\n",
    "    step=0.005,\n",
    "    description=r'$\\beta_R$:',\n",
    "    disabled=False,\n",
    "    continuous_update=False,\n",
    "    orientation='horizontal',\n",
    "    readout=True,\n",
    "    readout_format='.3f',\n",
    ")\n",
    "betaT = widgets.FloatSlider(\n",
    "    value=0.0,\n",
    "    min=-0.1,\n",
    "    max=0.1,\n",
    "    step=0.005,\n",
    "    description=r'$\\beta_T$:',\n",
    "    disabled=False,\n",
    "    continuous_update=False,\n",
    "    orientation='horizontal',\n",
    "    readout=True,\n",
    "    readout_format='.3f',\n",
    ")\n",
    "alphaT = widgets.FloatSlider(\n",
    "    value=0.0,\n",
    "    min=0,\n",
    "    max=100,\n",
    "    step=1,\n",
    "    description=r'$\\alpha_T$ in ppm/K:',\n",
    "    disabled=False,\n",
    "    continuous_update=False,\n",
    "    orientation='horizontal',\n",
    "    readout=True,\n",
    "    readout_format='.1f',\n",
    ")\n",
    "alphaR = widgets.FloatSlider(\n",
    "    value=25.0,\n",
    "    min=0,\n",
    "    max=100,\n",
    "    step=1,\n",
    "    description=r'$\\alpha_R$ in ppm/K:',\n",
    "    disabled=False,\n",
    "    continuous_update=False,\n",
    "    orientation='horizontal',\n",
    "    readout=True,\n",
    "    readout_format='.1f',\n",
    ")\n",
    "\n",
    "\n",
    "DT = widgets.FloatText(value=-160.0,description=r'$\\Delta T$:')\n",
    "flangelength = widgets.FloatText(value=50.0,description=r'flange length in mm:')\n",
    "phi = widgets.FloatText(value=90.0,description=r'$\\tilde{\\varphi}$ in $^\\circ$:')\n",
    "radius = widgets.FloatText(value=5.0,description=r'radius in mm:')"
   ]
  },
  {
   "cell_type": "code",
   "execution_count": 161,
   "metadata": {
    "collapsed": true
   },
   "outputs": [],
   "source": [
    "\n",
    "def Radford(phi,at,ar,bt,br,DT):\n",
    "    \n",
    "    dphithermal = phi*((at-ar)*DT*1.0E-6/(1+ar*1.0E-6*DT))\n",
    "    dphichemical = phi*((bt-br)/(1+br))\n",
    "    dphitotal = dphithermal + dphichemical\n",
    "    #print(dphithermal,dphichemical,dphitotal)\n",
    "    \n",
    "    return dphithermal,dphichemical,dphitotal\n",
    "\n",
    "\n"
   ]
  },
  {
   "cell_type": "code",
   "execution_count": 162,
   "metadata": {},
   "outputs": [],
   "source": [
    "import matplotlib.pyplot as plt\n",
    "import numpy as np\n",
    "\n",
    "\n",
    "#For plotting only\n",
    "def radplot(dphi,phi0,r,l):\n",
    "    X,Y = [],[]\n",
    "    \n",
    "    X.append(-l)\n",
    "    Y.append(0.0)\n",
    "    \n",
    "    \n",
    "    angle = np.linspace(0,dphi+phi0,100)\n",
    "    \n",
    "    for a in angle:\n",
    "        xval = np.sin(np.deg2rad(a))*r\n",
    "        X.append(xval)\n",
    "        yval = r - np.cos(np.deg2rad(a))*r\n",
    "        Y.append(yval)\n",
    "    \n",
    "    \n",
    "    X.append(X[-1] + np.cos(np.deg2rad(a))*l)\n",
    "    Y.append(Y[-1]+ np.sin(np.deg2rad(a))*l)\n",
    "\n",
    "    return[X,Y]"
   ]
  },
  {
   "cell_type": "code",
   "execution_count": 165,
   "metadata": {},
   "outputs": [
    {
     "data": {
      "application/vnd.jupyter.widget-view+json": {
       "model_id": "0399b0cbced2405ea39a7f375f49112f",
       "version_major": 2,
       "version_minor": 0
      },
      "text/plain": [
       "A Jupyter Widget"
      ]
     },
     "metadata": {},
     "output_type": "display_data"
    },
    {
     "data": {
      "application/vnd.jupyter.widget-view+json": {
       "model_id": "a3abac582bc24a1487450794bff3a666",
       "version_major": 2,
       "version_minor": 0
      },
      "text/plain": [
       "A Jupyter Widget"
      ]
     },
     "metadata": {},
     "output_type": "display_data"
    },
    {
     "data": {
      "application/vnd.jupyter.widget-view+json": {
       "model_id": "cab80d29f14d4cd382158454a2b40140",
       "version_major": 2,
       "version_minor": 0
      },
      "text/plain": [
       "A Jupyter Widget"
      ]
     },
     "metadata": {},
     "output_type": "display_data"
    },
    {
     "data": {
      "application/vnd.jupyter.widget-view+json": {
       "model_id": "b4240c4b093445248d995d74d4143263",
       "version_major": 2,
       "version_minor": 0
      },
      "text/plain": [
       "A Jupyter Widget"
      ]
     },
     "metadata": {},
     "output_type": "display_data"
    },
    {
     "data": {
      "application/vnd.jupyter.widget-view+json": {
       "model_id": "06e9b727457748d4ab045292bd16d588",
       "version_major": 2,
       "version_minor": 0
      },
      "text/plain": [
       "A Jupyter Widget"
      ]
     },
     "metadata": {},
     "output_type": "display_data"
    },
    {
     "data": {
      "application/vnd.jupyter.widget-view+json": {
       "model_id": "31f28f4644274bea86c245f6bf00142e",
       "version_major": 2,
       "version_minor": 0
      },
      "text/plain": [
       "A Jupyter Widget"
      ]
     },
     "metadata": {},
     "output_type": "display_data"
    },
    {
     "data": {
      "application/vnd.jupyter.widget-view+json": {
       "model_id": "1f5b42f915e3418983885c02ca2f1384",
       "version_major": 2,
       "version_minor": 0
      },
      "text/plain": [
       "A Jupyter Widget"
      ]
     },
     "metadata": {},
     "output_type": "display_data"
    },
    {
     "data": {
      "application/vnd.jupyter.widget-view+json": {
       "model_id": "d60672f623884dfebeef21a45879861a",
       "version_major": 2,
       "version_minor": 0
      },
      "text/plain": [
       "A Jupyter Widget"
      ]
     },
     "metadata": {},
     "output_type": "display_data"
    }
   ],
   "source": [
    "display(phi)\n",
    "display(alphaT)\n",
    "display(alphaR)\n",
    "display(betaT)\n",
    "display(betaR)\n",
    "display(DT)\n",
    "\n",
    "#For illustration\n",
    "display(radius)\n",
    "display(flangelength)"
   ]
  },
  {
   "cell_type": "code",
   "execution_count": 166,
   "metadata": {},
   "outputs": [
    {
     "data": {
      "image/png": "[encoded data removed]",
      "text/plain": [
       "<Figure size 432x288 with 1 Axes>"
      ]
     },
     "metadata": {},
     "output_type": "display_data"
    }
   ],
   "source": [
    "#Function calls\n",
    "DPHIT, DPHIC, DPHITOT = Radford(phi.value, alphaT.value, alphaR.value, betaT.value, betaR.value, DT.value)\n",
    "#Data to plot\n",
    "X,Y = radplot(DPHITOT,phi.value,radius.value,flangelength.value)\n",
    "X0,Y0 = radplot(0,90,5,50)\n",
    "\n",
    "\n",
    "plt.axis('equal')\n",
    "plt.plot(X,Y,'r', linewidth=5)\n",
    "plt.plot(X0,Y0,'k', linewidth=1 )\n",
    "\n",
    "plt.annotate('Deviation %4.1f mm'%(X[-1]-radius.value), xy=(X[-1], Y[-1]), xytext=(X[-1]+10, Y[-1]+10),\n",
    "            arrowprops=dict(facecolor='r', shrink=0.05),\n",
    "            )\n",
    "plt.annotate('Spring-in %3.2f$^\\circ$'%(DPHITOT), xy=(X[-2], Y[-2]), xytext=(-flangelength.value, 50),\n",
    "            arrowprops=dict(facecolor='k', shrink=0.05),\n",
    "            )\n",
    "\n",
    "plt.show(True)"
   ]
  }
 ],
 "metadata": {
  "kernelspec": {
   "display_name": "Python 3",
   "language": "python",
   "name": "python3"
  },
  "language_info": {
   "codemirror_mode": {
    "name": "ipython",
    "version": 3
   },
   "file_extension": ".py",
   "mimetype": "text/x-python",
   "name": "python",
   "nbconvert_exporter": "python",
   "pygments_lexer": "ipython3",
   "version": "3.6.3"
  }
 },
 "nbformat": 4,
 "nbformat_minor": 2
}
